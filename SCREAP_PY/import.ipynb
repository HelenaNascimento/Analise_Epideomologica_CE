{
 "cells": [
  {
   "cell_type": "code",
   "execution_count": null,
   "id": "57281ca4",
   "metadata": {
    "vscode": {
     "languageId": "plaintext"
    }
   },
   "outputs": [],
   "source": [
    "import time\n",
    "import pandas as pd\n",
    "from selenium import webdriver\n",
    "from selenium.webdriver.common.by import By\n",
    "from selenium.webdriver.common.keys import Keys"
   ]
  },
  {
   "cell_type": "code",
   "execution_count": null,
   "id": "79aebfec",
   "metadata": {
    "vscode": {
     "languageId": "plaintext"
    }
   },
   "outputs": [],
   "source": [
    "# Configurar WebDriver\n",
    "driver = webdriver.Chrome()"
   ]
  },
  {
   "cell_type": "code",
   "execution_count": null,
   "id": "f4c1cefe",
   "metadata": {
    "vscode": {
     "languageId": "plaintext"
    }
   },
   "outputs": [],
   "source": [
    "# Carregar planilha\n",
    "df = pd.read_excel('jogadores.xlsx')"
   ]
  },
  {
   "cell_type": "code",
   "execution_count": null,
   "id": "cb75f34e",
   "metadata": {
    "vscode": {
     "languageId": "plaintext"
    }
   },
   "outputs": [],
   "source": [
    "# Adicionar colunas de resultado\n",
    "df['Nacionalidade'] = ''\n",
    "df['Instagram'] = ''"
   ]
  },
  {
   "cell_type": "code",
   "execution_count": null,
   "id": "24d1f662",
   "metadata": {
    "vscode": {
     "languageId": "plaintext"
    }
   },
   "outputs": [],
   "source": [
    "for idx, row in df.iterrows():\n",
    "    nome = row['Nome do Jogador']\n",
    "    search_url = f\"https://www.transfermarkt.com.br/schnellsuche/ergebnis/schnellsuche?query={nome.replace(' ', '+')}\"\n",
    "    \n",
    "    driver.get(search_url)\n",
    "    time.sleep(2)  # tempo para carregar a página\n",
    "\n",
    "    try:\n",
    "        # Pega o primeiro resultado da busca\n",
    "        jogador_link = driver.find_element(By.CSS_SELECTOR, 'a.spielprofil_tooltip').get_attribute('href')\n",
    "        driver.get(jogador_link)\n",
    "        time.sleep(2)\n",
    "\n",
    "        # Extrai nacionalidade\n",
    "        nacionalidade = driver.find_element(By.CSS_SELECTOR, '.dataZusatzDaten img').get_attribute('title')\n",
    "\n",
    "        # Extrai perfil Instagram, se tiver\n",
    "        redes_sociais = driver.find_elements(By.CSS_SELECTOR, 'a.socialmedia-icon')\n",
    "        instagram = ''\n",
    "        for link in redes_sociais:\n",
    "            href = link.get_attribute('href')\n",
    "            if 'instagram.com' in href:\n",
    "                instagram = href\n",
    "                break\n",
    "\n",
    "        # Preenche no DataFrame\n",
    "        df.at[idx, 'Nacionalidade'] = nacionalidade\n",
    "        df.at[idx, 'Instagram'] = instagram\n",
    "\n",
    "        print(f\"Coletado: {nome} - {nacionalidade} - {instagram}\")\n",
    "\n",
    "    except Exception as e:\n",
    "        print(f\"Erro ao coletar dados de {nome}: {e}\")\n",
    "        continue"
   ]
  },
  {
   "cell_type": "code",
   "execution_count": null,
   "id": "f1bf78f0",
   "metadata": {
    "vscode": {
     "languageId": "plaintext"
    }
   },
   "outputs": [],
   "source": [
    "# Salva os dados na planilha\n",
    "df.to_excel('jogadores_atualizado.xlsx', index=False)"
   ]
  },
  {
   "cell_type": "code",
   "execution_count": null,
   "id": "bc445eb5",
   "metadata": {
    "vscode": {
     "languageId": "plaintext"
    }
   },
   "outputs": [],
   "source": [
    "driver.quit()\n"
   ]
  }
 ],
 "metadata": {
  "language_info": {
   "name": "python"
  }
 },
 "nbformat": 4,
 "nbformat_minor": 5
}
